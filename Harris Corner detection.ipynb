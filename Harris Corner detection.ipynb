{
 "cells": [
  {
   "cell_type": "code",
   "execution_count": 1,
   "metadata": {},
   "outputs": [],
   "source": [
    "import cv2\n",
    "import numpy as np\n",
    "import matplotlib.pyplot as plt"
   ]
  },
  {
   "cell_type": "code",
   "execution_count": 23,
   "metadata": {},
   "outputs": [
    {
     "data": {
      "text/plain": [
       "<matplotlib.image.AxesImage at 0x2688b751e10>"
      ]
     },
     "execution_count": 23,
     "metadata": {},
     "output_type": "execute_result"
    },
    {
     "data": {
      "image/png": "[encoded data removed]",
      "text/plain": [
       "<Figure size 432x288 with 1 Axes>"
      ]
     },
     "metadata": {
      "needs_background": "light"
     },
     "output_type": "display_data"
    }
   ],
   "source": [
    "#RGB to grayscale\n",
    "image=cv2.imread('chess.png')\n",
    "imgRGB = cv2.cvtColor(image, cv2.COLOR_BGR2RGB)\n",
    "gray=cv2.cvtColor(imgRGB, cv2.COLOR_RGB2GRAY)\n",
    "plt.imshow(gray,cmap='gray')"
   ]
  },
  {
   "cell_type": "code",
   "execution_count": 24,
   "metadata": {},
   "outputs": [
    {
     "data": {
      "text/plain": [
       "<matplotlib.image.AxesImage at 0x2688b7a9c88>"
      ]
     },
     "execution_count": 24,
     "metadata": {},
     "output_type": "execute_result"
    },
    {
     "data": {
      "image/png": "[encoded data removed]",
      "text/plain": [
       "<Figure size 432x288 with 1 Axes>"
      ]
     },
     "metadata": {
      "needs_background": "light"
     },
     "output_type": "display_data"
    }
   ],
   "source": [
    "#Applying gaussian filter to smoothen the image\n",
    "I_g=cv2.GaussianBlur(gray,(5,5),1)\n",
    "plt.imshow(I_g,cmap='gray')"
   ]
  },
  {
   "cell_type": "code",
   "execution_count": 13,
   "metadata": {},
   "outputs": [
    {
     "data": {
      "text/plain": [
       "<matplotlib.image.AxesImage at 0x2688a07e940>"
      ]
     },
     "execution_count": 13,
     "metadata": {},
     "output_type": "execute_result"
    },
    {
     "data": {
      "image/png": "[encoded data removed]",
      "text/plain": [
       "<Figure size 432x288 with 1 Axes>"
      ]
     },
     "metadata": {
      "needs_background": "light"
     },
     "output_type": "display_data"
    }
   ],
   "source": [
    "#Appying the sobel filter in two directions to obtain the derivatives in the respective directions\n",
    "#Sobel in x\n",
    "kernel_Sobel_x = np.array([[-1,0,+1],[-2,0,+2],[-1,0,+1]])\n",
    "I_x=cv2.filter2D(I_g,-1,kernel_Sobel_x).astype('float64')\n",
    "plt.imshow(I_x,cmap='gray')"
   ]
  },
  {
   "cell_type": "code",
   "execution_count": 14,
   "metadata": {},
   "outputs": [
    {
     "data": {
      "text/plain": [
       "<matplotlib.image.AxesImage at 0x2688a80bac8>"
      ]
     },
     "execution_count": 14,
     "metadata": {},
     "output_type": "execute_result"
    },
    {
     "data": {
      "image/png": "[encoded data removed]",
      "text/plain": [
       "<Figure size 432x288 with 1 Axes>"
      ]
     },
     "metadata": {
      "needs_background": "light"
     },
     "output_type": "display_data"
    }
   ],
   "source": [
    "#Sobel in y\n",
    "kernel_Sobel_y = np.array([[-1,-2,-1], [0,0,0], [+1,+2,+1]])\n",
    "I_y=cv2.filter2D(I_g,-1,kernel_Sobel_y).astype('float64')\n",
    "plt.imshow(I_y,cmap='gray')"
   ]
  },
  {
   "cell_type": "code",
   "execution_count": 15,
   "metadata": {},
   "outputs": [],
   "source": [
    "#Double derivatives are calculated for the matrix as per Harris' algorithm\n",
    "I_xx = np.square(I_x)\n",
    "I_yy = np.square(I_y)\n",
    "I_xy = np.multiply(I_x, I_y)\n",
    "I_yx= np.multiply(I_y, I_x)"
   ]
  },
  {
   "cell_type": "code",
   "execution_count": 29,
   "metadata": {},
   "outputs": [],
   "source": [
    "#Gaussian blur is applied to avoid abrupt noises that can be miscounted as corners\n",
    "I_xx = cv2.GaussianBlur(I_xx,(5, 5),1.4)\n",
    "I_yy = cv2.GaussianBlur(I_yy,(5, 5),1.4)\n",
    "I_xy = cv2.GaussianBlur(I_xy,(5, 5),1.4)\n",
    "I_yx = cv2.GaussianBlur(I_yx,(5, 5),1.4)"
   ]
  },
  {
   "cell_type": "code",
   "execution_count": 25,
   "metadata": {},
   "outputs": [],
   "source": [
    "#The 'R' metric is calculated for all the pixels as per Harris' algorithm which later decides the classification for corners\n",
    "k=0.06 \n",
    "R=np.zeros((I_xx.shape[0],I_xx.shape[1]),np.float32)\n",
    "for i in range(1,I_xx.shape[0]-1):\n",
    "    for j in range(1,I_xx.shape[1]-1):\n",
    "        M=np.asarray([[I_xx[i][j],I_xy[i][j]],[I_yx[i][j],I_yy[i][j]]])\n",
    "        R[i][j]=np.linalg.det(M)-(k*np.square(np.trace(M))) # Instead of the lambda1,lambda2 direct determinant and trace are used as per the characteristic equation of a matrix method"
   ]
  },
  {
   "cell_type": "code",
   "execution_count": 35,
   "metadata": {},
   "outputs": [
    {
     "data": {
      "text/plain": [
       "<matplotlib.image.AxesImage at 0x2688d8e0fd0>"
      ]
     },
     "execution_count": 35,
     "metadata": {},
     "output_type": "execute_result"
    },
    {
     "data": {
      "image/png": "[encoded data removed]",
      "text/plain": [
       "<Figure size 432x288 with 1 Axes>"
      ]
     },
     "metadata": {
      "needs_background": "light"
     },
     "output_type": "display_data"
    }
   ],
   "source": [
    "#The threshold for a corner is decided by iterating over the image and getting optimal response\n",
    "threshold = 40000\n",
    "final=np.copy(imgRGB)\n",
    "for i in range(R.shape[0]):\n",
    "    for j in range(R.shape[1]):\n",
    "        if R[i][j]>threshold:\n",
    "            max = R[i][j]\n",
    "            c=0\n",
    "            for k in range(3):# This non-maximal suppression is carried out for blocks to avoid concentration of pixels arounf corners\n",
    "                for l in range(3):\n",
    "                    if i+k-1<R.shape[0] and j+l-1<R.shape[1]:\n",
    "                        if R[i+k-1][j+l-1]>max:\n",
    "                            c=1\n",
    "                            break\n",
    "            if c==0:\n",
    "                cv2.circle(final,(j,i),4,(255,0,0),4)\n",
    "plt.imshow(final)"
   ]
  },
  {
   "cell_type": "code",
   "execution_count": null,
   "metadata": {},
   "outputs": [],
   "source": []
  }
 ],
 "metadata": {
  "kernelspec": {
   "display_name": "Python 3",
   "language": "python",
   "name": "python3"
  },
  "language_info": {
   "codemirror_mode": {
    "name": "ipython",
    "version": 3
   },
   "file_extension": ".py",
   "mimetype": "text/x-python",
   "name": "python",
   "nbconvert_exporter": "python",
   "pygments_lexer": "ipython3",
   "version": "3.6.9"
  }
 },
 "nbformat": 4,
 "nbformat_minor": 2
}
